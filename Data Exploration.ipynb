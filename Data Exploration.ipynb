{
 "cells": [
  {
   "cell_type": "code",
   "execution_count": 2,
   "metadata": {},
   "outputs": [
    {
     "name": "stdout",
     "output_type": "stream",
     "text": [
      "Requirement already satisfied: chart_studio in /opt/miniconda3/lib/python3.7/site-packages (1.1.0)\n",
      "Requirement already satisfied: requests in /opt/miniconda3/lib/python3.7/site-packages (from chart_studio) (2.23.0)\n",
      "Requirement already satisfied: plotly in /opt/miniconda3/lib/python3.7/site-packages (from chart_studio) (4.9.0)\n",
      "Requirement already satisfied: retrying>=1.3.3 in /opt/miniconda3/lib/python3.7/site-packages (from chart_studio) (1.3.3)\n",
      "Requirement already satisfied: six in /opt/miniconda3/lib/python3.7/site-packages (from chart_studio) (1.15.0)\n",
      "Requirement already satisfied: urllib3!=1.25.0,!=1.25.1,<1.26,>=1.21.1 in /opt/miniconda3/lib/python3.7/site-packages (from requests->chart_studio) (1.25.8)\n",
      "Requirement already satisfied: idna<3,>=2.5 in /opt/miniconda3/lib/python3.7/site-packages (from requests->chart_studio) (2.9)\n",
      "Requirement already satisfied: certifi>=2017.4.17 in /opt/miniconda3/lib/python3.7/site-packages (from requests->chart_studio) (2020.4.5.1)\n",
      "Requirement already satisfied: chardet<4,>=3.0.2 in /opt/miniconda3/lib/python3.7/site-packages (from requests->chart_studio) (3.0.4)\n"
     ]
    },
    {
     "data": {
      "text/html": [
       "        <script type=\"text/javascript\">\n",
       "        window.PlotlyConfig = {MathJaxConfig: 'local'};\n",
       "        if (window.MathJax) {MathJax.Hub.Config({SVG: {font: \"STIX-Web\"}});}\n",
       "        if (typeof require !== 'undefined') {\n",
       "        require.undef(\"plotly\");\n",
       "        requirejs.config({\n",
       "            paths: {\n",
       "                'plotly': ['https://cdn.plot.ly/plotly-latest.min']\n",
       "            }\n",
       "        });\n",
       "        require(['plotly'], function(Plotly) {\n",
       "            window._Plotly = Plotly;\n",
       "        });\n",
       "        }\n",
       "        </script>\n",
       "        "
      ]
     },
     "metadata": {},
     "output_type": "display_data"
    }
   ],
   "source": [
    "import os\n",
    "from os import listdir\n",
    "import pandas as pd\n",
    "import numpy as np\n",
    "import glob\n",
    "import tqdm\n",
    "from typing import Dict\n",
    "import matplotlib.pyplot as plt\n",
    "\n",
    "#plotly\n",
    "!pip install chart_studio\n",
    "import plotly.express as px\n",
    "#import chart_studio.plotly as py\n",
    "import plotly.graph_objs as go\n",
    "from plotly.offline import iplot\n",
    "import cufflinks\n",
    "cufflinks.go_offline()\n",
    "cufflinks.set_config_file(world_readable=True, theme='pearl')\n",
    "\n",
    "#color\n",
    "from colorama import Fore, Back, Style\n",
    "\n",
    "import seaborn as sns\n",
    "sns.set(style=\"whitegrid\")\n",
    "\n",
    "#pydicom\n",
    "import pydicom\n",
    "\n",
    "# Suppress warnings\n",
    "import warnings\n",
    "warnings.filterwarnings('ignore')\n",
    "\n",
    "# Settings for pretty nice plots\n",
    "plt.style.use('fivethirtyeight')\n",
    "plt.show()"
   ]
  },
  {
   "cell_type": "code",
   "execution_count": 3,
   "metadata": {},
   "outputs": [
    {
     "name": "stdout",
     "output_type": "stream",
     "text": [
      "\u001b[33mTrain Set !! \u001b[0m\n",
      "<class 'pandas.core.frame.DataFrame'>\n",
      "RangeIndex: 1549 entries, 0 to 1548\n",
      "Data columns (total 7 columns):\n",
      " #   Column         Non-Null Count  Dtype  \n",
      "---  ------         --------------  -----  \n",
      " 0   Patient        1549 non-null   object \n",
      " 1   Weeks          1549 non-null   int64  \n",
      " 2   FVC            1549 non-null   int64  \n",
      " 3   Percent        1549 non-null   float64\n",
      " 4   Age            1549 non-null   int64  \n",
      " 5   Sex            1549 non-null   object \n",
      " 6   SmokingStatus  1549 non-null   object \n",
      "dtypes: float64(1), int64(3), object(3)\n",
      "memory usage: 84.8+ KB\n",
      "None\n",
      "-------------\n",
      "\u001b[34mTest Set !! \u001b[0m\n",
      "<class 'pandas.core.frame.DataFrame'>\n",
      "RangeIndex: 5 entries, 0 to 4\n",
      "Data columns (total 7 columns):\n",
      " #   Column         Non-Null Count  Dtype  \n",
      "---  ------         --------------  -----  \n",
      " 0   Patient        5 non-null      object \n",
      " 1   Weeks          5 non-null      int64  \n",
      " 2   FVC            5 non-null      int64  \n",
      " 3   Percent        5 non-null      float64\n",
      " 4   Age            5 non-null      int64  \n",
      " 5   Sex            5 non-null      object \n",
      " 6   SmokingStatus  5 non-null      object \n",
      "dtypes: float64(1), int64(3), object(3)\n",
      "memory usage: 408.0+ bytes\n",
      "None\n"
     ]
    }
   ],
   "source": [
    "\n",
    "train_df = pd.read_csv('osic-pulmonary-fibrosis-progression/train.csv')\n",
    "test_df = pd.read_csv('osic-pulmonary-fibrosis-progression/test.csv')\n",
    "\n",
    "#print('Training data shape: ',Style.RESET_ALL,train_df.shape)\n",
    "#print(train_df.head(5))\n",
    "\n",
    "#basic info\n",
    "print(Fore.YELLOW + 'Train Set !!',Style.RESET_ALL)\n",
    "print(train_df.info())\n",
    "print('-------------')\n",
    "print(Fore.BLUE + 'Test Set !!',Style.RESET_ALL)\n",
    "print(test_df.info())\n"
   ]
  },
  {
   "cell_type": "code",
   "execution_count": null,
   "metadata": {},
   "outputs": [],
   "source": []
  }
 ],
 "metadata": {
  "kernelspec": {
   "display_name": "Python 3",
   "language": "python",
   "name": "python3"
  },
  "language_info": {
   "codemirror_mode": {
    "name": "ipython",
    "version": 3
   },
   "file_extension": ".py",
   "mimetype": "text/x-python",
   "name": "python",
   "nbconvert_exporter": "python",
   "pygments_lexer": "ipython3",
   "version": "3.7.8"
  }
 },
 "nbformat": 4,
 "nbformat_minor": 4
}
